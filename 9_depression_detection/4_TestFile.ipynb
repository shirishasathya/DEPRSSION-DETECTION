{
 "cells": [
  {
   "cell_type": "code",
   "execution_count": 1,
   "id": "1e6f20ce",
   "metadata": {},
   "outputs": [],
   "source": [
    "import warnings\n",
    "warnings.filterwarnings(\"ignore\")\n",
    "\n",
    "import pandas as pd\n",
    "pd.set_option(\"display.max_columns\", None)\n",
    "import matplotlib.pyplot as plt\n",
    "%matplotlib inline\n",
    "from tqdm import tqdm\n",
    "from lib_file import lib_path\n",
    "import re\n",
    "import contractions\n",
    "from langdetect import detect\n",
    "from tensorflow.keras.models import load_model\n",
    "from transformers import pipeline\n",
    "from IPython.display import clear_output\n",
    "from tensorflow.keras.preprocessing.sequence import pad_sequences"
   ]
  },
  {
   "cell_type": "code",
   "execution_count": 3,
   "id": "8508d43c",
   "metadata": {},
   "outputs": [],
   "source": [
    "import pickle\n",
    "with open(file=\"models/tokens.pkl\", mode=\"rb\") as file:\n",
    "    tokenizer = pickle.load(file=file)\n",
    "register = pipeline(\"sentiment-analysis\")\n",
    "clear_output()\n",
    "model=load_model(\"models/LongShortTermMemory_model.h5\", compile=False)\n",
    "class_labels = {0:'NEGATIVE', 1:'POSITIVE'}"
   ]
  },
  {
   "cell_type": "code",
   "execution_count": 4,
   "id": "22aee067",
   "metadata": {
    "executionInfo": {
     "elapsed": 11,
     "status": "ok",
     "timestamp": 1700717400986,
     "user": {
      "displayName": "Pulavendran S",
      "userId": "09545379829326731753"
     },
     "user_tz": -330
    },
    "id": "FJ-ppqf4Yzgp"
   },
   "outputs": [],
   "source": [
    "def remove_emoticons(text):\n",
    "    emoticons_to_remove = [\":)\", \":(\", \":D\", \";D\", \":*\", \":'(\", \":/\", \"O:)\", \":P\", \":O\", \"&)\", \"^_^\", \">:O\", \":3\", \">:(\", \"8|\", \"O.o\", \"-_-\", \"3:)\", \"<3\", \":V\", \":|]\", \"(^^^)\", '<(\")']\n",
    "    for emoticon in emoticons_to_remove:\n",
    "        text = text.replace(emoticon, '')\n",
    "    return text"
   ]
  },
  {
   "cell_type": "code",
   "execution_count": 5,
   "id": "44244dcc",
   "metadata": {
    "executionInfo": {
     "elapsed": 11,
     "status": "ok",
     "timestamp": 1700717400987,
     "user": {
      "displayName": "Pulavendran S",
      "userId": "09545379829326731753"
     },
     "user_tz": -330
    },
    "id": "68lS67FeYzgp"
   },
   "outputs": [],
   "source": [
    "def text_cleaning(text):\n",
    "    text = remove_emoticons(text)\n",
    "    emoji_pattern = re.compile(\"[\"\n",
    "                            u\"\\U0001F600-\\U0001F64F\"  # Emojis\n",
    "                            u\"\\U0001F300-\\U0001F5FF\"  # Symbols & pictographs\n",
    "                            u\"\\U0001F680-\\U0001F6FF\"  # Transport & map symbols\n",
    "                            u\"\\U0001F700-\\U0001F77F\"  # Alphabetic presentation forms\n",
    "                            u\"\\U0001F780-\\U0001F7FF\"  # Geometric shapes\n",
    "                            u\"\\U0001F800-\\U0001F8FF\"  # Miscellaneous symbols\"\n",
    "                            u\"\\U0001F900-\\U0001F9FF\"  # Supplemental symbols & pictographs\n",
    "                            u\"\\U0001FA00-\\U0001FA6F\"  # Extended-A\n",
    "                            u\"\\U0001FA70-\\U0001FAFF\"  # Extended-B\n",
    "                            u\"\\U0001F004-\\U0001F0CF\"  # Mahjong tiles\n",
    "                            u\"\\U0001F170-\\U0001F251\"  # Enclosed characters\n",
    "                            u\"\\U00020000-\\U0002F73F\"  # Chinese, Japanese, and Korean characters\n",
    "                            u\"\\U000E0000-\\U000E007F\"  # Tags\n",
    "                            \"]+\", flags=re.UNICODE)\n",
    "    text = re.sub(emoji_pattern, '', text)\n",
    "    text = re.sub(r\"http\\S+|www\\S+|https\\S+\", '', text, flags=re.MULTILINE)\n",
    "    text = re.sub(r'(@\\w+|#\\w+)', '', text)\n",
    "    text = contractions.fix(text)\n",
    "    text = re.sub(r'[^a-zA-Z0-9\\s]', '', text)\n",
    "\n",
    "    try:\n",
    "        lang = detect(text)\n",
    "        if lang == 'en':\n",
    "            return text.lower()\n",
    "        else:\n",
    "            return 'empty'\n",
    "    except:\n",
    "        return 'empty'"
   ]
  },
  {
   "cell_type": "code",
   "execution_count": 15,
   "id": "yO7fdzIR9ROO",
   "metadata": {
    "executionInfo": {
     "elapsed": 675,
     "status": "ok",
     "timestamp": 1692854207140,
     "user": {
      "displayName": "Pulavendran S",
      "userId": "09545379829326731753"
     },
     "user_tz": -330
    },
    "id": "yO7fdzIR9ROO"
   },
   "outputs": [],
   "source": [
    "def text_prediction(text):\n",
    "    text=text_cleaning(text)\n",
    "    input_df = pd.DataFrame(data=[text], index=[0], columns=['cleaned_text'])\n",
    "    num_data=tokenizer.texts_to_sequences(input_df[\"cleaned_text\"].values)\n",
    "    pad_text=pad_sequences(sequences=num_data,maxlen=50,padding=\"post\",truncating=\"post\")\n",
    "    values, prediction = model.predict(pad_text),register(text)\n",
    "    predicted_sentiment = prediction[0]['label']\n",
    "    print(f\"Cleaned Text: {text}\",\"\\n\")\n",
    "    print(f\"Vectorized Text: {num_data}\",\"\\n\")\n",
    "    print(f\"Padded Text: {pad_text}\",\"\\n\")\n",
    "    return predicted_sentiment"
   ]
  },
  {
   "cell_type": "markdown",
   "id": "5uuZgxCX-22M",
   "metadata": {
    "id": "5uuZgxCX-22M"
   },
   "source": [
    "---"
   ]
  },
  {
   "cell_type": "code",
   "execution_count": 7,
   "id": "fEYQi6Y_-JmA",
   "metadata": {
    "colab": {
     "base_uri": "https://localhost:8080/"
    },
    "executionInfo": {
     "elapsed": 8592,
     "status": "ok",
     "timestamp": 1692854655275,
     "user": {
      "displayName": "Pulavendran S",
      "userId": "09545379829326731753"
     },
     "user_tz": -330
    },
    "id": "fEYQi6Y_-JmA",
    "outputId": "c4fe02e8-61ea-4655-bc10-0afe10451ed1"
   },
   "outputs": [
    {
     "name": "stdout",
     "output_type": "stream",
     "text": [
      "Enter your sentence to perform depression prediction:The day is very worst, everything happening against me\n"
     ]
    }
   ],
   "source": [
    "text = input(\"Enter your sentence to perform depression prediction:\")"
   ]
  },
  {
   "cell_type": "code",
   "execution_count": 16,
   "id": "wvkzLsBmWhGq",
   "metadata": {
    "colab": {
     "base_uri": "https://localhost:8080/"
    },
    "executionInfo": {
     "elapsed": 4,
     "status": "ok",
     "timestamp": 1692854656685,
     "user": {
      "displayName": "Pulavendran S",
      "userId": "09545379829326731753"
     },
     "user_tz": -330
    },
    "id": "wvkzLsBmWhGq",
    "outputId": "c19cd3e9-b112-4f6e-ee03-349a015f161e"
   },
   "outputs": [
    {
     "name": "stdout",
     "output_type": "stream",
     "text": [
      "Cleaned Text: the day is very worst everything happening against me \n",
      "\n",
      "Vectorized Text: [[3, 35, 4, 106, 751, 316, 1723, 2128, 18]] \n",
      "\n",
      "Padded Text: [[   3   35    4  106  751  316 1723 2128   18    0    0    0    0    0\n",
      "     0    0    0    0    0    0    0    0    0    0    0    0    0    0\n",
      "     0    0    0    0    0    0    0    0    0    0    0    0    0    0\n",
      "     0    0    0    0    0    0    0    0]] \n",
      "\n",
      "Predicted Sentiment is [- NEGATIVE -]\n"
     ]
    }
   ],
   "source": [
    "predicted_sentiment = text_prediction(text)\n",
    "print(f\"Predicted Sentiment is [- {predicted_sentiment} -]\")"
   ]
  },
  {
   "cell_type": "code",
   "execution_count": null,
   "id": "f74e89df",
   "metadata": {},
   "outputs": [],
   "source": []
  }
 ],
 "metadata": {
  "kernelspec": {
   "display_name": "Python 3 (ipykernel)",
   "language": "python",
   "name": "python3"
  },
  "language_info": {
   "codemirror_mode": {
    "name": "ipython",
    "version": 3
   },
   "file_extension": ".py",
   "mimetype": "text/x-python",
   "name": "python",
   "nbconvert_exporter": "python",
   "pygments_lexer": "ipython3",
   "version": "3.9.7"
  }
 },
 "nbformat": 4,
 "nbformat_minor": 5
}
